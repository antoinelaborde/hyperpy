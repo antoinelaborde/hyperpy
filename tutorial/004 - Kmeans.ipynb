{
 "cells": [
  {
   "cell_type": "code",
   "execution_count": 9,
   "id": "accepted-municipality",
   "metadata": {},
   "outputs": [],
   "source": [
    "from sklearn.cluster import KMeans\n",
    "from hyperpy.preprocessing.transformers import MeanCentering, DomainSelection\n",
    "from hyperpy.spectral import SpectralCube, as_cube\n",
    "from hyperpy.preprocessing.utils import spectral_process\n",
    "from hyperpy.models.kmeans import kmeans\n",
    "import numpy as np\n",
    "from hyperpy.utils import DataSampler\n",
    "from hyperpy import BoxROIFigure"
   ]
  },
  {
   "cell_type": "code",
   "execution_count": 6,
   "id": "suspected-reply",
   "metadata": {},
   "outputs": [],
   "source": [
    "from sklearn.utils import resample"
   ]
  },
  {
   "cell_type": "code",
   "execution_count": 2,
   "id": "substantial-anniversary",
   "metadata": {},
   "outputs": [],
   "source": [
    "# Import data\n",
    "path_to_specim = \"/Users/Antoine/Workspace/test-data/hyperspectral-raw-data/REF_1_A.raw\"\n",
    "cube_specim = SpectralCube.from_specim(data_file_name=path_to_specim)"
   ]
  },
  {
   "cell_type": "code",
   "execution_count": 3,
   "id": "behavioral-permission",
   "metadata": {},
   "outputs": [],
   "source": [
    "# Domain selection: remove noisy wavelengths\n",
    "domain = cube_specim.domain\n",
    "domain_selection = DomainSelection(selection=(domain>1100),\n",
    "                                  domain=domain)"
   ]
  },
  {
   "cell_type": "code",
   "execution_count": 4,
   "id": "precise-preliminary",
   "metadata": {},
   "outputs": [],
   "source": [
    "cube_processed = spectral_process(cube_specim, (domain_selection, MeanCentering(),))"
   ]
  },
  {
   "cell_type": "code",
   "execution_count": 8,
   "id": "certain-thompson",
   "metadata": {},
   "outputs": [
    {
     "data": {
      "text/plain": [
       "(392, 2245, 252)"
      ]
     },
     "execution_count": 8,
     "metadata": {},
     "output_type": "execute_result"
    }
   ],
   "source": [
    "cube_processed.shape[:2]+cube_processed.domain.shape"
   ]
  },
  {
   "cell_type": "code",
   "execution_count": 5,
   "id": "beautiful-cardiff",
   "metadata": {},
   "outputs": [],
   "source": [
    "kmeans_obj, kmeans_classes = kmeans(cube_processed, 0.33, n_clusters=3)"
   ]
  },
  {
   "cell_type": "code",
   "execution_count": 10,
   "id": "facial-cologne",
   "metadata": {},
   "outputs": [],
   "source": [
    "box_roi = BoxROIFigure(spectral_cube=kmeans_classes)"
   ]
  },
  {
   "cell_type": "code",
   "execution_count": 11,
   "id": "reasonable-insured",
   "metadata": {},
   "outputs": [
    {
     "name": "stdout",
     "output_type": "stream",
     "text": [
      "Launching server at http://localhost:52299\n"
     ]
    }
   ],
   "source": [
    "box_roi.serve()"
   ]
  }
 ],
 "metadata": {
  "kernelspec": {
   "display_name": "hyperpy",
   "language": "python",
   "name": "hyperpy"
  },
  "language_info": {
   "codemirror_mode": {
    "name": "ipython",
    "version": 3
   },
   "file_extension": ".py",
   "mimetype": "text/x-python",
   "name": "python",
   "nbconvert_exporter": "python",
   "pygments_lexer": "ipython3",
   "version": "3.8.8"
  }
 },
 "nbformat": 4,
 "nbformat_minor": 5
}

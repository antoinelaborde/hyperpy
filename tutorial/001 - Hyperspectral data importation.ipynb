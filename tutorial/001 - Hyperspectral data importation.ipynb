{
 "cells": [
  {
   "cell_type": "markdown",
   "metadata": {},
   "source": [
    "# 001 - Hyperspectral data importation\n",
    "This tutorial aims to show how to import hyperspectral data."
   ]
  },
  {
   "cell_type": "markdown",
   "metadata": {},
   "source": [
    "## Import using the SpectralCube class"
   ]
  },
  {
   "cell_type": "code",
   "execution_count": null,
   "metadata": {},
   "outputs": [],
   "source": [
    "from hyperpy.cube import SpectralCube"
   ]
  },
  {
   "cell_type": "markdown",
   "metadata": {},
   "source": [
    "### Using Hyspex format\n",
    "For Hyspex format, we assume the white reference is on the left part of the image. The end_white_index argument is the last index corresponding to the white reference on the x axis of the hyperspectral image."
   ]
  },
  {
   "cell_type": "code",
   "execution_count": null,
   "metadata": {},
   "outputs": [],
   "source": [
    "path_to_hyspex = \"/Users/Antoine/Workspace/hyperspectral-python/hyperspectralpython/test-data/hyperspectral-raw-data/example_hyspex.hyspex\"\n",
    "cube_hyspex = SpectralCube.from_hyspex(data_file_name=path_to_hyspex, end_white_index=50)"
   ]
  },
  {
   "cell_type": "markdown",
   "metadata": {},
   "source": [
    "### Using Specim format\n",
    "For the Specim format, the name of the file corresponds to the sample measurement \"sample.raw\". We assume the dark and white reference images are named: \"DARKREF_sample.raw\" and \"WHITEREF_sample.raw\". The .hdr files must also be available."
   ]
  },
  {
   "cell_type": "code",
   "execution_count": 15,
   "metadata": {},
   "outputs": [],
   "source": [
    "path_to_specim = \"/Users/Antoine/Workspace/hyperspectral-python/hyperspectralpython/test-data/hyperspectral-raw-data/REF_1_A.raw\"\n",
    "cube_specim = SpectralCube.from_specim(data_file_name=path_to_specim)"
   ]
  },
  {
   "cell_type": "markdown",
   "metadata": {},
   "source": [
    "### Using Matlab format\n",
    "For the Matlab format, we assume the hyperspectral cube was saved in a .mat file, and the spectral file in another .mat file."
   ]
  },
  {
   "cell_type": "code",
   "execution_count": 2,
   "metadata": {},
   "outputs": [],
   "source": [
    "path_to_mat = \"/Users/Antoine/Workspace/hyperspectral-python/hyperspectralpython/test-data/from-matlab/cube.mat\"\n",
    "cube_mat = SpectralCube.from_mat_file(data_file_name=path_to_mat)"
   ]
  },
  {
   "cell_type": "markdown",
   "metadata": {},
   "source": [
    "## Import using the native importation function class\n",
    "Instead of using the SpectralCube class, you can use the native functions for importation."
   ]
  },
  {
   "cell_type": "code",
   "execution_count": 10,
   "metadata": {},
   "outputs": [],
   "source": [
    "from hyperpy.loading import read_specim, read_hyspex, read_mat_file"
   ]
  },
  {
   "cell_type": "markdown",
   "metadata": {},
   "source": [
    "### Using Hyspex format\n",
    "For Hyspex format, we assume the white reference is on the left part of the image. The end_white_index argument is the last index corresponding to the white reference on the x axis of the hyperspectral image."
   ]
  },
  {
   "cell_type": "code",
   "execution_count": 2,
   "metadata": {},
   "outputs": [],
   "source": [
    "path_to_hyspex = \"/Users/Antoine/Workspace/hyperspectral-python/hyperspectralpython/test-data/hyperspectral-raw-data/example_hyspex.hyspex\"\n",
    "reflectance_hyspex, wavelengths = read_hyspex(path_to_hyspex, end_white_index=50, start_white_index=20)"
   ]
  },
  {
   "cell_type": "markdown",
   "metadata": {},
   "source": [
    "### Using Specim format\n",
    "For the Specim format, the name of the file corresponds to the sample measurement \"sample.raw\". We assume the dark and white reference images are named: \"DARKREF_sample.raw\" and \"WHITEREF_sample.raw\". The .hdr files must also be available."
   ]
  },
  {
   "cell_type": "code",
   "execution_count": 4,
   "metadata": {},
   "outputs": [],
   "source": [
    "path_to_specim = \"/Users/Antoine/Workspace/hyperspectral-python/hyperspectralpython/test-data/hyperspectral-raw-data/REF_1_A.raw\"\n",
    "reflectance_specim, wavelengths = read_specim(path_to_specim)"
   ]
  },
  {
   "cell_type": "markdown",
   "metadata": {},
   "source": [
    "### Using Matlab format\n",
    "For the Specim format, the name of the file corresponds to the sample measurement \"sample.raw\". We assume the dark and white reference images are named: \"DARKREF_sample.raw\" and \"WHITEREF_sample.raw\". The .hdr files must also be available."
   ]
  },
  {
   "cell_type": "code",
   "execution_count": 5,
   "metadata": {},
   "outputs": [],
   "source": [
    "path_to_mat = \"/Users/Antoine/Workspace/hyperspectral-python/hyperspectralpython/test-data/from-matlab/cube.mat\"\n",
    "reflectance_mat = read_mat_file(path_to_mat)"
   ]
  }
 ],
 "metadata": {
  "kernelspec": {
   "display_name": "hyperpy",
   "language": "python",
   "name": "hyperpy"
  },
  "language_info": {
   "codemirror_mode": {
    "name": "ipython",
    "version": 3
   },
   "file_extension": ".py",
   "mimetype": "text/x-python",
   "name": "python",
   "nbconvert_exporter": "python",
   "pygments_lexer": "ipython3",
   "version": "3.9.0"
  }
 },
 "nbformat": 4,
 "nbformat_minor": 4
}

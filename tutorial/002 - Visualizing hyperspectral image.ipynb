{
 "cells": [
  {
   "cell_type": "markdown",
   "metadata": {},
   "source": [
    "# Visualizing hyperspectral image"
   ]
  },
  {
   "cell_type": "code",
   "execution_count": 7,
   "metadata": {},
   "outputs": [],
   "source": [
    "# Import a hyperspectral image\n",
    "from hyperpy.cube import SpectralCube, as_cube\n",
    "from hyperpy import PCAFigure, BoxROIFigure\n",
    "from hyperpy.preprocessing import spectral_process\n",
    "from hyperpy.preprocessing import DomainSelection"
   ]
  },
  {
   "cell_type": "code",
   "execution_count": 8,
   "metadata": {},
   "outputs": [],
   "source": [
    "path_to_specim = \"/Users/Antoine/Workspace/test-data/hyperspectral-raw-data/REF_1_A.raw\"\n",
    "cube = SpectralCube.from_specim(data_file_name=path_to_specim)"
   ]
  },
  {
   "cell_type": "code",
   "execution_count": 9,
   "metadata": {},
   "outputs": [],
   "source": [
    "selection = cube.domain>1100"
   ]
  },
  {
   "cell_type": "code",
   "execution_count": 10,
   "metadata": {},
   "outputs": [],
   "source": [
    "transformers = (DomainSelection(selection, cube.domain),)\n",
    "process_cube = spectral_process(cube, transformers)"
   ]
  },
  {
   "cell_type": "code",
   "execution_count": 11,
   "metadata": {},
   "outputs": [],
   "source": [
    "box_roi = BoxROIFigure(spectral_cube=process_cube)"
   ]
  },
  {
   "cell_type": "code",
   "execution_count": 12,
   "metadata": {},
   "outputs": [
    {
     "name": "stdout",
     "output_type": "stream",
     "text": [
      "Launching server at http://localhost:64101\n"
     ]
    }
   ],
   "source": [
    "box_roi.serve()"
   ]
  },
  {
   "cell_type": "code",
   "execution_count": 11,
   "metadata": {},
   "outputs": [],
   "source": [
    "box_roi.stop()"
   ]
  },
  {
   "cell_type": "code",
   "execution_count": 5,
   "metadata": {},
   "outputs": [],
   "source": [
    "pca_figure = PCAFigure(spectral_cube=process_cube)"
   ]
  },
  {
   "cell_type": "code",
   "execution_count": 6,
   "metadata": {},
   "outputs": [
    {
     "name": "stdout",
     "output_type": "stream",
     "text": [
      "Launching server at http://localhost:60602\n"
     ]
    }
   ],
   "source": [
    "pca_figure.serve()"
   ]
  }
 ],
 "metadata": {
  "kernelspec": {
   "display_name": "hyperpy",
   "language": "python",
   "name": "hyperpy"
  },
  "language_info": {
   "codemirror_mode": {
    "name": "ipython",
    "version": 3
   },
   "file_extension": ".py",
   "mimetype": "text/x-python",
   "name": "python",
   "nbconvert_exporter": "python",
   "pygments_lexer": "ipython3",
   "version": "3.8.8"
  }
 },
 "nbformat": 4,
 "nbformat_minor": 4
}

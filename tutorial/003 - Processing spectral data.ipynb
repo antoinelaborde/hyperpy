{
 "cells": [
  {
   "cell_type": "code",
   "execution_count": 8,
   "metadata": {},
   "outputs": [],
   "source": [
    "from sklearn.pipeline import make_pipeline\n",
    "import numpy as np\n",
    "from hyperpy.preprocessing.transformers import Log, MeanCentering, MultiplicativeScatterCorrection, SavitzkyGolay, StandardNormalDeviate,\\\n",
    "Positive\n",
    "from hyperpy.cube import SpectralCube, as_cube"
   ]
  },
  {
   "cell_type": "code",
   "execution_count": 2,
   "metadata": {},
   "outputs": [],
   "source": [
    "# Import data\n",
    "path_to_specim = \"/Users/Antoine/Workspace/hyperpy/test-data/hyperspectral-raw-data/REF_1_A.raw\"\n",
    "cube_specim = SpectralCube.from_specim(data_file_name=path_to_specim)"
   ]
  },
  {
   "cell_type": "code",
   "execution_count": 3,
   "metadata": {},
   "outputs": [],
   "source": [
    "# Get matrix\n",
    "mat_specim = cube_specim.get_matrix()"
   ]
  },
  {
   "cell_type": "code",
   "execution_count": 5,
   "metadata": {},
   "outputs": [],
   "source": [
    "# Create preprocessing pipeline\n",
    "pipeline = make_pipeline(\n",
    "    MeanCentering(),\n",
    "    SavitzkyGolay(window_size=7, polynomial_order=2, derivation_order=1)\n",
    "    )"
   ]
  },
  {
   "cell_type": "code",
   "execution_count": 6,
   "metadata": {},
   "outputs": [],
   "source": [
    "# Process spectral data\n",
    "mat_specim_transformed = pipeline.transform(mat_specim)"
   ]
  },
  {
   "cell_type": "code",
   "execution_count": 11,
   "metadata": {},
   "outputs": [],
   "source": [
    "# Get a cube from processed data\n",
    "cube_transformed = as_cube(mat_specim_transformed, cube_specim)"
   ]
  }
 ],
 "metadata": {
  "kernelspec": {
   "display_name": "hyperpy",
   "language": "python",
   "name": "hyperpy"
  },
  "language_info": {
   "codemirror_mode": {
    "name": "ipython",
    "version": 3
   },
   "file_extension": ".py",
   "mimetype": "text/x-python",
   "name": "python",
   "nbconvert_exporter": "python",
   "pygments_lexer": "ipython3",
   "version": "3.9.0"
  }
 },
 "nbformat": 4,
 "nbformat_minor": 4
}
